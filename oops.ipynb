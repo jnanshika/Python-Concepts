{
 "cells": [
  {
   "cell_type": "code",
   "execution_count": 17,
   "id": "ce3dedb4",
   "metadata": {},
   "outputs": [
    {
     "name": "stdout",
     "output_type": "stream",
     "text": [
      "name = Patrick, age= 35, count = 1\n",
      "name = Spoongebob, age= 30, count = 2\n"
     ]
    }
   ],
   "source": [
    "#instance/ class variable\n",
    "class Student:\n",
    "    studentCount = 0\n",
    "\n",
    "    def __init__ (self, name, age):\n",
    "        self.name = name\n",
    "        self.age = age\n",
    "        # self.studentCount +=1\n",
    "        Student.studentCount +=1\n",
    "    \n",
    "    def printDetails(self):\n",
    "        print(f\"name = {self.name}, age= {self.age}, count = {Student.studentCount}\")\n",
    "\n",
    "s1 = Student(\"Patrick\", 35)\n",
    "s1.printDetails()\n",
    "s1 = Student(\"Spoongebob\", 30)\n",
    "s1.printDetails()\n"
   ]
  },
  {
   "cell_type": "code",
   "execution_count": 16,
   "id": "6a22d0d4",
   "metadata": {},
   "outputs": [],
   "source": [
    "# single inheritance\n",
    "class Parent():\n",
    "    pass\n",
    "class Child (Parent):\n",
    "    pass\n"
   ]
  },
  {
   "cell_type": "code",
   "execution_count": 20,
   "id": "c4c63374",
   "metadata": {},
   "outputs": [
    {
     "ename": "TypeError",
     "evalue": "Can't instantiate abstract class Vehicle without an implementation for abstract method 'go'",
     "output_type": "error",
     "traceback": [
      "\u001b[31m---------------------------------------------------------------------------\u001b[39m",
      "\u001b[31mTypeError\u001b[39m                                 Traceback (most recent call last)",
      "\u001b[36mCell\u001b[39m\u001b[36m \u001b[39m\u001b[32mIn[20]\u001b[39m\u001b[32m, line 11\u001b[39m\n\u001b[32m      7\u001b[39m     \u001b[38;5;129m@abstractmethod\u001b[39m\n\u001b[32m      8\u001b[39m     \u001b[38;5;28;01mdef\u001b[39;00m\u001b[38;5;250m \u001b[39m\u001b[34mgo\u001b[39m (\u001b[38;5;28mself\u001b[39m):\n\u001b[32m      9\u001b[39m         \u001b[38;5;28mprint\u001b[39m(\u001b[33m\"\u001b[39m\u001b[33mYo go girl!!\u001b[39m\u001b[33m\"\u001b[39m)\n\u001b[32m---> \u001b[39m\u001b[32m11\u001b[39m v1 = \u001b[43mVehicle\u001b[49m\u001b[43m(\u001b[49m\u001b[43m)\u001b[49m\n",
      "\u001b[31mTypeError\u001b[39m: Can't instantiate abstract class Vehicle without an implementation for abstract method 'go'"
     ]
    }
   ],
   "source": [
    "#abstraction\n",
    "#cannot instantiate abstract class directly\n",
    "from abc import ABC, abstractmethod\n",
    "\n",
    "class Vehicle(ABC):\n",
    "    \n",
    "    @abstractmethod\n",
    "    def go (self):\n",
    "        print(\"Yo go girl!!\")\n",
    "\n",
    "v1 = Vehicle()"
   ]
  },
  {
   "cell_type": "code",
   "execution_count": 22,
   "id": "3ec9ab19",
   "metadata": {},
   "outputs": [
    {
     "name": "stdout",
     "output_type": "stream",
     "text": [
      "Paid ₹45 using Credit Card\n"
     ]
    }
   ],
   "source": [
    "#abstract class\n",
    "from abc import ABC, abstractmethod\n",
    "\n",
    "class PaymentProcessor(ABC):\n",
    "    @abstractmethod\n",
    "    def pay(self, amount):\n",
    "        pass\n",
    "\n",
    "class CreditCardProcessor(PaymentProcessor):\n",
    "    def pay(self, amount):\n",
    "        print(f\"Paid ₹{amount} using Credit Card\")\n",
    "\n",
    "class UPIProcessor(PaymentProcessor):\n",
    "    def pay(self, amount):\n",
    "        print(f\"Paid ₹{amount} using UPI\")\n",
    "\n",
    "cc = CreditCardProcessor()\n",
    "cc.pay(45)"
   ]
  },
  {
   "cell_type": "code",
   "execution_count": 33,
   "id": "dcf8698d",
   "metadata": {},
   "outputs": [
    {
     "name": "stdout",
     "output_type": "stream",
     "text": [
      "Prent constructor is called\n",
      "Child constructor is called\n"
     ]
    }
   ],
   "source": [
    "#super() - inheritance\n",
    "\n",
    "class Parent:\n",
    "    def __init__(self):\n",
    "        print(\"Prent constructor is called\")\n",
    "\n",
    "class Child(Parent):\n",
    "    def __init__(self):\n",
    "        super().__init__()\n",
    "        print(\"Child constructor is called\")\n",
    "\n",
    "child1 = Child()\n"
   ]
  },
  {
   "cell_type": "code",
   "execution_count": 35,
   "id": "c80c1431",
   "metadata": {},
   "outputs": [
    {
     "name": "stdout",
     "output_type": "stream",
     "text": [
      "Car is driving\n",
      "Bike is driving\n"
     ]
    }
   ],
   "source": [
    "#duck typing - abstraction\n",
    "class Car:\n",
    "    def drive(self):\n",
    "        print(\"Car is driving\")\n",
    "\n",
    "class Bike:\n",
    "    def drive(self):\n",
    "        print(\"Bike is driving\")\n",
    "\n",
    "def start(vehicle):\n",
    "    vehicle.drive()\n",
    "    \n",
    "start(Car())   \n",
    "start(Bike())  "
   ]
  },
  {
   "cell_type": "code",
   "execution_count": 36,
   "id": "571c1cb1",
   "metadata": {},
   "outputs": [
    {
     "name": "stdout",
     "output_type": "stream",
     "text": [
      "Engine started\n",
      "Car is ready to go\n"
     ]
    }
   ],
   "source": [
    "#composition\n",
    "class Engine:\n",
    "    def start(self):\n",
    "        print(\"Engine started\")\n",
    "\n",
    "class Car:\n",
    "    def __init__(self):\n",
    "        self.engine = Engine()  # Car has an Engine (composition)\n",
    "\n",
    "    def start_car(self):\n",
    "        self.engine.start()\n",
    "        print(\"Car is ready to go\")\n",
    "\n",
    "# Usage\n",
    "my_car = Car()\n",
    "my_car.start_car()\n"
   ]
  },
  {
   "cell_type": "code",
   "execution_count": 39,
   "id": "e0c8b4f1",
   "metadata": {},
   "outputs": [
    {
     "name": "stdout",
     "output_type": "stream",
     "text": [
      "Bark\n",
      "Meow\n",
      "Some generic sound\n"
     ]
    }
   ],
   "source": [
    "#polymorphism\n",
    "class Animal:\n",
    "    def sound(self):\n",
    "        return \"Some generic sound\"\n",
    "\n",
    "class Dog(Animal):\n",
    "    def sound(self):\n",
    "        return \"Bark\"\n",
    "\n",
    "class Cat(Animal):\n",
    "    def sound(self):\n",
    "        return \"Meow\"\n",
    "\n",
    "# Polymorphic behavior\n",
    "animals = [Dog(), Cat(), Animal()]\n",
    "for animal in animals:\n",
    "    print(animal.sound())  # Calls the overridden method based on the object type"
   ]
  },
  {
   "cell_type": "code",
   "execution_count": 44,
   "id": "8d3677db",
   "metadata": {},
   "outputs": [
    {
     "name": "stdout",
     "output_type": "stream",
     "text": [
      "Harry Potter by JK Mathur\n"
     ]
    }
   ],
   "source": [
    "#magic methods - special methods that customise the behavior of operations (arithematic, comparision, type casting) on object\n",
    "class Book:\n",
    "    def __init__(self, title, author, num_pages):\n",
    "        self.title = title\n",
    "        self.author = author\n",
    "        self.num_pages = num_pages\n",
    "\n",
    "    def __str__(self):\n",
    "        return f\"{self.title} by {self.author}\"\n",
    "\n",
    "book1 = Book('Harry Potter', 'JK Mathur', 400)\n",
    "print(book1)"
   ]
  },
  {
   "cell_type": "code",
   "execution_count": 7,
   "id": "0a9b6783",
   "metadata": {},
   "outputs": [
    {
     "name": "stdout",
     "output_type": "stream",
     "text": [
      "3\n"
     ]
    }
   ],
   "source": [
    "#access class variable inside static method\n",
    "class student:\n",
    "    count = 0\n",
    "    def __init__(self, name, age):\n",
    "        self.name = name\n",
    "        self.age = age\n",
    "        student.create()\n",
    "\n",
    "    @staticmethod\n",
    "    def create():\n",
    "        student.count += 1\n",
    "\n",
    "s1 = student(\"Patrick\", 15)\n",
    "s2 = student(\"Max\", 17)\n",
    "s3 = student(\"Daisy\", 16)\n",
    "print(f\"{student.count}\")"
   ]
  },
  {
   "cell_type": "code",
   "execution_count": null,
   "id": "baf8e147",
   "metadata": {},
   "outputs": [],
   "source": []
  },
  {
   "cell_type": "code",
   "execution_count": 14,
   "id": "2fcb3519",
   "metadata": {},
   "outputs": [
    {
     "name": "stdout",
     "output_type": "stream",
     "text": [
      "3.0cm\n"
     ]
    }
   ],
   "source": [
    "#Property decorator\n",
    "\n",
    "class Rectangle:\n",
    "\n",
    "    def __init__(self, width, height):\n",
    "        self._width = width  #This triggers the @property instead of setting an internal variable\n",
    "        self._height = height\n",
    "    \n",
    "    @property\n",
    "    def width(self):\n",
    "        return f\"{self._width:.1f}cm\"\n",
    "\n",
    "    @property\n",
    "    def height(self):\n",
    "        return f\"{self._height:.1f}cm\"\n",
    "\n",
    "rec1 = Rectangle(3,4)\n",
    "print(rec1.width)\n",
    "rec1._width = 5\n",
    "rec1._height = 10"
   ]
  },
  {
   "cell_type": "code",
   "execution_count": 21,
   "id": "1a269032",
   "metadata": {},
   "outputs": [
    {
     "name": "stdout",
     "output_type": "stream",
     "text": [
      "5\n",
      "10\n",
      "Deleted width\n"
     ]
    }
   ],
   "source": [
    "class Rectangle:\n",
    "    def __init__(self, width, height):\n",
    "        self._width = width\n",
    "        self._height = height\n",
    "\n",
    "    # Getter\n",
    "    @property\n",
    "    def width(self):\n",
    "        return self._width\n",
    "\n",
    "    # Setter\n",
    "    @width.setter\n",
    "    def width(self, value):\n",
    "        if value <= 0:\n",
    "            raise ValueError(\"Width must be positive.\")\n",
    "        self._width = value\n",
    "\n",
    "    # Deleter\n",
    "    @width.deleter\n",
    "    def width(self):\n",
    "        print(\"Deleted width\")\n",
    "        del self._width\n",
    "\n",
    "rect = Rectangle(5, 10)\n",
    "\n",
    "print(rect.width)   # ➜ Calls the getter\n",
    "print(rect._height)\n",
    "\n",
    "rect.width = 15     # ➜ Calls the setter\n",
    "\n",
    "del rect.width      # ➜ Calls the deleter\n",
    "\n"
   ]
  }
 ],
 "metadata": {
  "kernelspec": {
   "display_name": "venv",
   "language": "python",
   "name": "python3"
  },
  "language_info": {
   "codemirror_mode": {
    "name": "ipython",
    "version": 3
   },
   "file_extension": ".py",
   "mimetype": "text/x-python",
   "name": "python",
   "nbconvert_exporter": "python",
   "pygments_lexer": "ipython3",
   "version": "3.13.3"
  }
 },
 "nbformat": 4,
 "nbformat_minor": 5
}
