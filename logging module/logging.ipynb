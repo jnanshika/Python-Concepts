{
 "cells": [
  {
   "cell_type": "code",
   "execution_count": 15,
   "id": "688ec21a",
   "metadata": {},
   "outputs": [
    {
     "name": "stdout",
     "output_type": "stream",
     "text": [
      "c:\\Users\\anshi\\OneDrive\\Desktop\\Python\\Python repo\\Python-Concepts\n"
     ]
    }
   ],
   "source": [
    "import os\n",
    "import logging as log\n",
    "\n",
    "print(os.getcwd())\n",
    "for handler in log.root.handlers[:]:  # Clear existing handlers\n",
    "    log.root.removeHandler(handler)\n",
    "\n",
    "log.basicConfig(\n",
    "    level=log.INFO,\n",
    "    filename=\"log.log\",\n",
    "    filemode=\"w\",\n",
    "    format=\"%(asctime)s - %(levelname)s:%(message)s\"\n",
    ")\n",
    "\n",
    "log.debug(\"debug\")\n",
    "log.info(\"info\")\n",
    "log.warning(\"warning\")\n",
    "log.error(\"error\")\n",
    "log.critical(\"critical\")\n",
    "\n"
   ]
  },
  {
   "cell_type": "markdown",
   "id": "f3856980",
   "metadata": {},
   "source": [
    "Logging in Modules (Best Practice)\n",
    "Each module should define its own logger:"
   ]
  },
  {
   "cell_type": "code",
   "execution_count": 17,
   "id": "d1ccf599",
   "metadata": {},
   "outputs": [
    {
     "name": "stdout",
     "output_type": "stream",
     "text": [
      "__main__\n"
     ]
    }
   ],
   "source": [
    "# In my_module.py\n",
    "import logging\n",
    "\n",
    "logger = logging.getLogger(__name__)\n",
    "\n",
    "def do_something():\n",
    "    logger.info(\"Doing something\")\n",
    "\n",
    "print(logger.name)\n"
   ]
  },
  {
   "cell_type": "markdown",
   "id": "2a2a29ad",
   "metadata": {},
   "source": [
    "Rotating Log Files Daily (Best for Large Projects)\n",
    "Use TimedRotatingFileHandler to create a new log file each day:\n"
   ]
  },
  {
   "cell_type": "code",
   "execution_count": 19,
   "id": "e28a0396",
   "metadata": {},
   "outputs": [],
   "source": [
    "import logging\n",
    "from logging.handlers import TimedRotatingFileHandler\n",
    "\n",
    "logger = logging.getLogger(\"daily_logger\")\n",
    "logger.setLevel(logging.DEBUG)\n",
    "\n",
    "# Create handler that rotates daily at midnight\n",
    "handler = TimedRotatingFileHandler(\n",
    "    filename=\"logs/app.log\",\n",
    "    when=\"midnight\",\n",
    "    interval=1,\n",
    "    backupCount=7,  # Keep last 7 days of logs\n",
    "    encoding=\"utf-8\"\n",
    ")\n",
    "\n",
    "formatter = logging.Formatter('%(asctime)s - %(levelname)s - %(message)s')\n",
    "handler.setFormatter(formatter)\n",
    "\n",
    "logger.addHandler(handler)\n",
    "\n",
    "logger.info(\"Daily logging setup initialized\")\n"
   ]
  },
  {
   "cell_type": "markdown",
   "id": "018bce91",
   "metadata": {},
   "source": [
    "Logging Best Practices for Big Projects\n",
    "✅ Use custom loggers per module with __name__.\n",
    "\n",
    "✅ Set logging config in a separate logging_config.py file.\n",
    "\n",
    "✅ Use TimedRotatingFileHandler or RotatingFileHandler for file management.\n",
    "\n",
    "✅ Log at appropriate levels (debug for development, error for prod errors).\n",
    "\n",
    "✅ Avoid logging sensitive info (e.g., passwords, tokens).\n",
    "\n",
    "✅ Use logging.config.dictConfig() or .ini for centralized configuration.\n"
   ]
  }
 ],
 "metadata": {
  "kernelspec": {
   "display_name": "venv",
   "language": "python",
   "name": "python3"
  },
  "language_info": {
   "codemirror_mode": {
    "name": "ipython",
    "version": 3
   },
   "file_extension": ".py",
   "mimetype": "text/x-python",
   "name": "python",
   "nbconvert_exporter": "python",
   "pygments_lexer": "ipython3",
   "version": "3.13.3"
  }
 },
 "nbformat": 4,
 "nbformat_minor": 5
}
